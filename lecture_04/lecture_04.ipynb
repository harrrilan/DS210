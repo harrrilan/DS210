{
 "cells": [
  {
   "cell_type": "markdown",
   "id": "8111c151",
   "metadata": {
    "slideshow": {
     "slide_type": "slide"
    }
   },
   "source": [
    "<div align=\"center\">\n",
    "    <h1>DS-210 B1: Programming for Data Science</h1>\n",
    "    <h2>Lecture 4</h2>\n",
    "</div>\n",
    "\n",
    "\n",
    "# Introduction to Rust\n",
    "\n",
    "* Compiling. \n",
    "* Basic types and variables. \n",
    "* Project manager (`cargo`).\n"
   ]
  },
  {
   "attachments": {},
   "cell_type": "markdown",
   "id": "ebb9d8a4",
   "metadata": {},
   "source": [
    "# VSCode Rust Environment config\n",
    "\n",
    "**Extremely Important** You must always connect via\n",
    "https://rhods-dashboard-redhat-ods-applications.apps.shift.nerc.mghpcc.org/notebookController/spawner\n",
    "\n",
    "Don't use other links or the navigation on the left side of the browser window.\n",
    "\n",
    "Make sure to have the following configuration for vscode on the environment\n",
    "\n",
    "<div style=\"text-align: center;\">\n",
    "  <img src=\"server-variables.png\" alt=\"GitHub Image\" style=\"width: 70%;\">\n",
    "</div>\n",
    "\n",
    "I'll show quick demo of how to:\n",
    "\n",
    "1. create a new `projects` or `source` folder.\n",
    "2. reopen VS Code to a particular project\n",
    "3. open a terminal window"
   ]
  },
  {
   "cell_type": "markdown",
   "id": "59efb799",
   "metadata": {},
   "source": [
    "# Rust: Compiling. Basic types and variables. Project manager (`cargo`)."
   ]
  },
  {
   "cell_type": "markdown",
   "id": "8fd577cd",
   "metadata": {},
   "source": [
    "## Source of Truth\n",
    "\n",
    "<div align=\"center\">\n",
    "    <img src=\"./rust-book-title.png\" alt=\"Rust Book\" style=\"width: 70%;\">\n",
    "\n",
    "https://doc.rust-lang.org/book/\n",
    "</div>\n"
   ]
  },
  {
   "cell_type": "markdown",
   "id": "d8987a83-fe1b-4d97-8c42-c56d7737dbfc",
   "metadata": {},
   "source": [
    "## Rust and Jupyter Notbooks\n",
    "\n",
    "A few comments on using Rust as a kernel in Jupyter notebooks and how it differs from normal Rust development.\n",
    "\n",
    "Reminder: Rust is a compiled language and, as we discussed earlier and the typical flow is:\n",
    "\n",
    "1. Write code in an editor (VSCode, Intellij, etc.)\n",
    "2. Compile the code with `rustc` or `cargo`\n",
    "3. Run the compiled code\n",
    "\n",
    "```mermaid\n",
    "graph LR;\n",
    "    A[Write code\\n in an editor] --> B[Compile the code\\n with `rustc` or `cargo`]\n",
    "    B --> C[Run the\\n compiled code]\n",
    "    C --> D[Check the\\n output]\n",
    "    D --> A\n",
    "```\n",
    "\n",
    "* In Jupyter notebooks, code is put into cells and executed one at a time.\n",
    "* Functions and variables defined in a cell are maintained in the notebook's kernel context.\n",
    "* This means that if you define a function in one cell, you can use it in another cell without redefining it.\n",
    "* However, if you restart the kernel or close the notebook, all variables and functions will be lost.\n",
    "\n",
    "\n",
    "Again, this is different from normal Rust development, where you compile the code and then run the compiled binary.\n",
    "\n",
    "Unlike normal Rust development, where the function `main` is the entry point, in Jupyter notebooks,\n",
    "you have to explicitly call the function main to run it.\n",
    "\n",
    "And finally, you will see cells with Rust commands that are not wrapped in a `fn main() { ... }` block.\n",
    "These are called \"global context\" and are executed when the cell is run.\n",
    "\n",
    "This is all made possible by the [Evcxr](https://github.com/evcxr/evcxr/) project\n",
    "(**Ev**alutation **C**onte**X**t for **R**ust)."
   ]
  },
  {
   "cell_type": "markdown",
   "id": "ad148be6",
   "metadata": {
    "slideshow": {
     "slide_type": "slide"
    }
   },
   "source": [
    "## Write and compile simple Rust program"
   ]
  },
  {
   "cell_type": "markdown",
   "id": "b1fa8992",
   "metadata": {},
   "source": [
    "Generally you would create a project directory for all your projects and then\n",
    "a subdirectory for each project.\n",
    "\n",
    "```bash\n",
    "$ mkdir ~/projects\n",
    "$ cd ~/projects\n",
    "$ mkdir hello_world\n",
    "$ cd hello_world\n",
    "```\n",
    "\n",
    "All Rust source files have the extension `.rs`.\n",
    "\n",
    "Create a file called `main.rs` and add the following code:\n"
   ]
  },
  {
   "cell_type": "code",
   "execution_count": 2,
   "id": "b214784b",
   "metadata": {},
   "outputs": [],
   "source": [
    "fn main() {\n",
    "    println!(\"Hello, world!\");\n",
    "}"
   ]
  },
  {
   "cell_type": "markdown",
   "id": "cc169856",
   "metadata": {},
   "source": [
    "If you created that file on the command line, then you compile and run the\n",
    "program with the following commands:\n",
    "\n",
    "```bash\n",
    "$ rustc main.rs    # compile with rustc which creates an executable\n",
    "$ ./main           # run the executable\n",
    "Hello, world!\n",
    "```"
   ]
  },
  {
   "cell_type": "markdown",
   "id": "5b6170b5",
   "metadata": {},
   "source": [
    "\n",
    "```rust\n",
    "fn main() { ... }\n",
    "```\n",
    "is how you define a function in Rust.\n",
    "\n",
    "The function name `main` is reserved and is the entry point of the program.\n",
    "\n",
    "Again, unlike in normal Rust development, here in the notebookwe need to \n",
    "explicitly call the `main` function to execute it."
   ]
  },
  {
   "cell_type": "code",
   "execution_count": 4,
   "id": "bfb97503",
   "metadata": {},
   "outputs": [
    {
     "name": "stdout",
     "output_type": "stream",
     "text": [
      "Hello, world!\n"
     ]
    }
   ],
   "source": [
    "main();"
   ]
  },
  {
   "cell_type": "markdown",
   "id": "9a2e6e04",
   "metadata": {},
   "source": [
    "```rust\n",
    "println!(\"Hello, world!\");\n",
    "```\n",
    "\n",
    "`println!` is a macro which is indicated by the `!` suffix.\n"
   ]
  },
  {
   "cell_type": "code",
   "execution_count": 2,
   "id": "cef0792a",
   "metadata": {
    "cell_style": "center"
   },
   "outputs": [],
   "source": [
    "// A bunch of the output routines\n",
    "fn main() {\n",
    "    let x = 9;\n",
    "    let y = 16;\n",
    "    print!(\"Hello, DS210!\\n\");\n",
    "    println!(\"Hello, DS210!\\n\");\n",
    "    println!(\"{} plus {} is {}\\n\", x, y, x+y);\n",
    "    println!(\"{:?} plus {:?} is {:?}\\n\", x, y, x+y);\n",
    "    println!(\"{:X} plus {:X} is {:X}\\n\", x, y, x+y);\n",
    "    let z = format!(\"{} plus {} is {}\\n\", x, y, x+y);\n",
    "    println!(\"{}\", z);  \n",
    "    eprint!(\"E {} plus {} is {}\\n\", x, y, x+y);      \n",
    "    eprintln!(\"E {} plus {} is {}\\n\", x, y, x+y);   \n",
    "}"
   ]
  },
  {
   "cell_type": "markdown",
   "id": "dbfa742b",
   "metadata": {},
   "source": [
    "More on `println!`:\n",
    "\n",
    "- first parameter is a format string\n",
    "- `{}` are replaced by the following parameters\n",
    "\n",
    "`print!` is similar to `println!` but does not add a newline at the end."
   ]
  },
  {
   "cell_type": "code",
   "execution_count": 3,
   "id": "a420814b",
   "metadata": {},
   "outputs": [
    {
     "name": "stdout",
     "output_type": "stream",
     "text": [
      "Hello, DS210!\n",
      "Hello, DS210!\n",
      "\n",
      "9 plus 16 is 25\n",
      "\n",
      "9 plus 16 is 25\n",
      "\n",
      "9 plus 10 is 19\n",
      "\n",
      "9 plus 16 is 25\n",
      "\n"
     ]
    },
    {
     "name": "stderr",
     "output_type": "stream",
     "text": [
      "E 9 plus 16 is 25\n",
      "E 9 plus 16 is 25\n",
      "\n"
     ]
    }
   ],
   "source": [
    "main();"
   ]
  },
  {
   "cell_type": "markdown",
   "id": "1cf3d20b",
   "metadata": {},
   "source": [
    "```rust\n",
    "// And some input routines\n",
    "// Unfortunately jupyter notebook does not have support for reading from the terminal with Rust at this point.\n",
    "// So this is for demo purposes\n",
    "use std::io;\n",
    "use std::io::Write;\n",
    "\n",
    "fn main() {\n",
    "    let mut user_input = String::new();\n",
    "    print!(\"What's your name? \");\n",
    "    io::stdout().flush().expect(\"Error flushing\");\n",
    "    let _ =io::stdin().read_line(&mut user_input);\n",
    "    println!(\"Hello, {}!\", user_input.trim());\n",
    "}\n",
    "```"
   ]
  },
  {
   "cell_type": "markdown",
   "id": "11aae391",
   "metadata": {
    "cell_style": "split",
    "slideshow": {
     "slide_type": "fragment"
    }
   },
   "source": [
    "**Simplest way to compile:**\n",
    "  * put the content in file `hello.rs`\n",
    "  * command line:\n",
    "    - navigate to this folder\n",
    "    - `rustc hello.rs`\n",
    "    - run `./hello` or `hello.exe`"
   ]
  },
  {
   "cell_type": "markdown",
   "id": "04214998",
   "metadata": {
    "slideshow": {
     "slide_type": "slide"
    }
   },
   "source": [
    "## Variable definitions"
   ]
  },
  {
   "cell_type": "markdown",
   "id": "c4de90e3",
   "metadata": {
    "cell_style": "split"
   },
   "source": [
    "* By default immutable!"
   ]
  },
  {
   "cell_type": "code",
   "execution_count": 4,
   "id": "c4c29077",
   "metadata": {
    "cell_style": "split"
   },
   "outputs": [
    {
     "ename": "Error",
     "evalue": "cannot assign twice to immutable variable `x`",
     "output_type": "error",
     "traceback": [
      "\u001b[31m[E0384] Error:\u001b[0m cannot assign twice to immutable variable `x`",
      "   \u001b[38;5;246m╭\u001b[0m\u001b[38;5;246m─\u001b[0m\u001b[38;5;246m[\u001b[0mcommand_4:1:1\u001b[38;5;246m]\u001b[0m",
      "   \u001b[38;5;246m│\u001b[0m",
      " \u001b[38;5;246m1 │\u001b[0m \u001b[38;5;249ml\u001b[0m\u001b[38;5;249me\u001b[0m\u001b[38;5;249mt\u001b[0m\u001b[38;5;249m \u001b[0m\u001b[38;5;54mx\u001b[0m\u001b[38;5;249m \u001b[0m\u001b[38;5;249m=\u001b[0m\u001b[38;5;249m \u001b[0m\u001b[38;5;249m3\u001b[0m\u001b[38;5;249m;\u001b[0m",
      " \u001b[38;5;240m  │\u001b[0m     \u001b[38;5;54m┬\u001b[0m  ",
      " \u001b[38;5;240m  │\u001b[0m     \u001b[38;5;54m╰\u001b[0m\u001b[38;5;54m─\u001b[0m\u001b[38;5;54m─\u001b[0m first assignment to `x`",
      " \u001b[38;5;240m  │\u001b[0m     \u001b[38;5;68m│\u001b[0m  ",
      " \u001b[38;5;240m  │\u001b[0m     \u001b[38;5;68m╰\u001b[0m\u001b[38;5;68m─\u001b[0m\u001b[38;5;68m─\u001b[0m help: consider making this binding mutable: `mut `",
      " \u001b[38;5;246m2 │\u001b[0m \u001b[38;5;100mx\u001b[0m\u001b[38;5;100m \u001b[0m\u001b[38;5;100m=\u001b[0m\u001b[38;5;100m \u001b[0m\u001b[38;5;100mx\u001b[0m\u001b[38;5;100m \u001b[0m\u001b[38;5;100m+\u001b[0m\u001b[38;5;100m \u001b[0m\u001b[38;5;100m1\u001b[0m\u001b[38;5;249m;\u001b[0m\u001b[38;5;249m \u001b[0m\u001b[38;5;249m/\u001b[0m\u001b[38;5;249m/\u001b[0m\u001b[38;5;249m \u001b[0m\u001b[38;5;249m<\u001b[0m\u001b[38;5;249m=\u001b[0m\u001b[38;5;249m=\u001b[0m\u001b[38;5;249m \u001b[0m\u001b[38;5;249me\u001b[0m\u001b[38;5;249mr\u001b[0m\u001b[38;5;249mr\u001b[0m\u001b[38;5;249mo\u001b[0m\u001b[38;5;249mr\u001b[0m\u001b[38;5;249m \u001b[0m\u001b[38;5;249mh\u001b[0m\u001b[38;5;249me\u001b[0m\u001b[38;5;249mr\u001b[0m\u001b[38;5;249me\u001b[0m",
      " \u001b[38;5;240m  │\u001b[0m \u001b[38;5;100m─\u001b[0m\u001b[38;5;100m─\u001b[0m\u001b[38;5;100m─\u001b[0m\u001b[38;5;100m─\u001b[0m\u001b[38;5;100m┬\u001b[0m\u001b[38;5;100m─\u001b[0m\u001b[38;5;100m─\u001b[0m\u001b[38;5;100m─\u001b[0m\u001b[38;5;100m─\u001b[0m  ",
      " \u001b[38;5;240m  │\u001b[0m     \u001b[38;5;100m╰\u001b[0m\u001b[38;5;100m─\u001b[0m\u001b[38;5;100m─\u001b[0m\u001b[38;5;100m─\u001b[0m\u001b[38;5;100m─\u001b[0m\u001b[38;5;100m─\u001b[0m\u001b[38;5;100m─\u001b[0m cannot assign twice to immutable variable",
      " \u001b[38;5;240m  │\u001b[0m ",
      " \u001b[38;5;240m  │\u001b[0m \u001b[38;5;115mNote\u001b[0m: You can change an existing variable to mutable like: `let mut x = x;`",
      "\u001b[38;5;246m───╯\u001b[0m"
     ]
    }
   ],
   "source": [
    "let x = 3;\n",
    "x = x + 1; // <== error here\n",
    "x"
   ]
  },
  {
   "cell_type": "markdown",
   "id": "6aa4b658",
   "metadata": {
    "cell_style": "split",
    "slideshow": {
     "slide_type": "fragment"
    }
   },
   "source": [
    "* Use `mut` to make them mutable"
   ]
  },
  {
   "cell_type": "code",
   "execution_count": 5,
   "id": "bf15940e",
   "metadata": {
    "cell_style": "split"
   },
   "outputs": [
    {
     "ename": "Error",
     "evalue": "mismatched types",
     "output_type": "error",
     "traceback": [
      "\u001b[31m[E0308] Error:\u001b[0m mismatched types",
      "   \u001b[38;5;246m╭\u001b[0m\u001b[38;5;246m─\u001b[0m\u001b[38;5;246m[\u001b[0mcommand_5:1:1\u001b[38;5;246m]\u001b[0m",
      "   \u001b[38;5;246m│\u001b[0m",
      " \u001b[38;5;246m2 │\u001b[0m \u001b[38;5;249ml\u001b[0m\u001b[38;5;249me\u001b[0m\u001b[38;5;249mt\u001b[0m\u001b[38;5;249m \u001b[0m\u001b[38;5;249mm\u001b[0m\u001b[38;5;249mu\u001b[0m\u001b[38;5;249mt\u001b[0m\u001b[38;5;249m \u001b[0m\u001b[38;5;249mx\u001b[0m\u001b[38;5;249m \u001b[0m\u001b[38;5;249m=\u001b[0m\u001b[38;5;249m \u001b[0m\u001b[38;5;100m3\u001b[0m\u001b[38;5;249m;\u001b[0m",
      " \u001b[38;5;240m  │\u001b[0m             \u001b[38;5;100m┬\u001b[0m  ",
      " \u001b[38;5;240m  │\u001b[0m             \u001b[38;5;100m╰\u001b[0m\u001b[38;5;100m─\u001b[0m\u001b[38;5;100m─\u001b[0m expected due to this value",
      " \u001b[38;5;240m  │\u001b[0m ",
      " \u001b[38;5;246m4 │\u001b[0m \u001b[38;5;249mx\u001b[0m\u001b[38;5;249m \u001b[0m\u001b[38;5;249m=\u001b[0m\u001b[38;5;249m \u001b[0m\u001b[38;5;54m9\u001b[0m\u001b[38;5;54m.\u001b[0m\u001b[38;5;54m5\u001b[0m\u001b[38;5;249m;\u001b[0m",
      " \u001b[38;5;240m  │\u001b[0m     \u001b[38;5;54m─\u001b[0m\u001b[38;5;54m┬\u001b[0m\u001b[38;5;54m─\u001b[0m  ",
      " \u001b[38;5;240m  │\u001b[0m      \u001b[38;5;54m╰\u001b[0m\u001b[38;5;54m─\u001b[0m\u001b[38;5;54m─\u001b[0m\u001b[38;5;54m─\u001b[0m expected integer, found floating-point number",
      "\u001b[38;5;246m───╯\u001b[0m"
     ]
    }
   ],
   "source": [
    "// mutable variable\n",
    "let mut x = 3;\n",
    "x = x + 1;\n",
    "x = 9.5;\n",
    "x"
   ]
  },
  {
   "cell_type": "markdown",
   "id": "5aca2126",
   "metadata": {
    "cell_style": "split",
    "slideshow": {
     "slide_type": "fragment"
    }
   },
   "source": [
    "* Variable shadowing: new variable with the same name"
   ]
  },
  {
   "cell_type": "code",
   "execution_count": 6,
   "id": "ba51be07",
   "metadata": {
    "cell_style": "split"
   },
   "outputs": [
    {
     "name": "stdout",
     "output_type": "stream",
     "text": [
      "solution = 6\n",
      "solution = This is a string\n"
     ]
    }
   ],
   "source": [
    "let solution = \"4\";\n",
    "let solution : i32 = solution.parse()\n",
    "                     .expect(\"Not a number!\");\n",
    "let solution = solution * (solution - 1) / 2;\n",
    "println!(\"solution = {}\",solution);\n",
    "let solution = \"This is a string\";\n",
    "println!(\"solution = {}\", solution);"
   ]
  },
  {
   "cell_type": "markdown",
   "id": "f2ba2bb6",
   "metadata": {},
   "source": [
    "### You can gloss over this one for now as we will revisit it again\n",
    "\n",
    "```rust\n",
    "    a: &T      // immutable binding of immutable reference\n",
    "mut a: &T      // mutable binding of immutable reference\n",
    "    a: &mut T  // immutable binding of mutable reference\n",
    "mut a: &mut T  // mutable binding of mutable reference\n",
    "```"
   ]
  },
  {
   "cell_type": "markdown",
   "id": "1ce1e358",
   "metadata": {
    "slideshow": {
     "slide_type": "slide"
    }
   },
   "source": [
    "## Basic types: integers and floats\n",
    "\n",
    "* unsigned integers: `u8`, `u16`, `u32`, `u64`, `u128`, `usize` (architecture specific size)\n",
    "   - from $0$ to $2^n-1$\n",
    "* signed integers: `i8`, `i16`, `i32` (default), `i64`, `i128`, `isize` (architecture specific size)\n",
    "   - from $-2^{n-1}$ to $2^{n-1}-1$\n",
    "\n",
    "> if you need to convert, use the `as` operator\n",
    "\n",
    "> `i128` and `u128` are useful for cryptography\n",
    "\n",
    "| Number literals |\tExample |\n",
    "| :-: | :-:|\n",
    "| Decimal | 98_222 |\n",
    "| Hex | 0xff |\n",
    "| Octal | 0o77 |\n",
    "| Binary | 0b1111_0000 |\n",
    "| Byte (u8 only) | b'A' |"
   ]
  },
  {
   "cell_type": "code",
   "execution_count": 9,
   "id": "bbefd91f",
   "metadata": {},
   "outputs": [
    {
     "name": "stdout",
     "output_type": "stream",
     "text": [
      "255 255 255 255\n"
     ]
    }
   ],
   "source": [
    "let s1 = 2_55_i32;\n",
    "let s2 = 0xf_f;\n",
    "let s3 = 0o3_77;\n",
    "let s4 = 0b1111_1111;\n",
    "println!(\"{} {} {} {}\", s1, s2, s3, s4);"
   ]
  },
  {
   "cell_type": "code",
   "execution_count": 10,
   "id": "7ffecbfb",
   "metadata": {},
   "outputs": [
    {
     "name": "stdout",
     "output_type": "stream",
     "text": [
      "U8 min is 0 max is 255\n",
      "I8 min is -128 max is 127\n",
      "U16 min is 0 max is 65535\n",
      "I16 min is -32768 max is 32767\n",
      "U32 min is 0 max is 4294967295\n",
      "I32 min is -2147483648 max is 2147483647\n",
      "U64 min is 0 max is 18446744073709551615\n",
      "I64 min is -9223372036854775808 max is 9223372036854775807\n",
      "U128 min is 0 max is 340282366920938463463374607431768211455\n",
      "I128 min is -170141183460469231731687303715884105728 max is 170141183460469231731687303715884105727\n",
      "USIZE min is 0 max is 18446744073709551615\n",
      "ISIZE min is -9223372036854775808 max is 9223372036854775807\n"
     ]
    }
   ],
   "source": [
    "println!(\"U8 min is {} max is {}\", u8::MIN, u8::MAX);\n",
    "println!(\"I8 min is {} max is {}\", i8::MIN, i8::MAX);\n",
    "println!(\"U16 min is {} max is {}\", u16::MIN, u16::MAX);\n",
    "println!(\"I16 min is {} max is {}\", i16::MIN, i16::MAX);\n",
    "println!(\"U32 min is {} max is {}\", u32::MIN, u32::MAX);\n",
    "println!(\"I32 min is {} max is {}\", i32::MIN, i32::MAX);\n",
    "println!(\"U64 min is {} max is {}\", u64::MIN, u64::MAX);\n",
    "println!(\"I64 min is {} max is {}\", i64::MIN, i64::MAX);\n",
    "println!(\"U128 min is {} max is {}\", u128::MIN, u128::MAX);\n",
    "println!(\"I128 min is {} max is {}\", i128::MIN, i128::MAX);\n",
    "println!(\"USIZE min is {} max is {}\", usize::MIN, usize::MAX);\n",
    "println!(\"ISIZE min is {} max is {}\", isize::MIN, isize::MAX);"
   ]
  },
  {
   "cell_type": "code",
   "execution_count": 11,
   "id": "31600a1e",
   "metadata": {
    "slideshow": {
     "slide_type": "fragment"
    }
   },
   "outputs": [
    {
     "name": "stdout",
     "output_type": "stream",
     "text": [
      "-221\n"
     ]
    }
   ],
   "source": [
    "let x : i16 = 13;\n",
    "let y : i32 = -17;\n",
    "// won't work without the conversion\n",
    "println!(\"{}\", (x as i32)* y);"
   ]
  },
  {
   "cell_type": "markdown",
   "id": "0910ee90",
   "metadata": {
    "slideshow": {
     "slide_type": "fragment"
    }
   },
   "source": [
    "* floats: `f32` and `f64` (default)\n",
    "* There is talk about adding f128 to the language but it is not as useful as u128/i128."
   ]
  },
  {
   "cell_type": "code",
   "execution_count": 12,
   "id": "426d0478",
   "metadata": {},
   "outputs": [
    {
     "data": {
      "text/plain": [
       "5.0"
      ]
     },
     "execution_count": 12,
     "metadata": {},
     "output_type": "execute_result"
    }
   ],
   "source": [
    "let x:f32 = 4.0;\n",
    "// let x:f32 = 4; // Will not work.  It will not autoconvert for you.\n",
    "let z = 1.25; // default float type: f64\n",
    "// won't work without the conversion\n",
    "(x as f64) * z"
   ]
  },
  {
   "cell_type": "markdown",
   "id": "607f8591",
   "metadata": {},
   "source": [
    "#### Why i128 and u128 datatypes?"
   ]
  },
  {
   "cell_type": "markdown",
   "id": "a23cfee6",
   "metadata": {},
   "source": [
    "### Why 128 bit integers but not floats? AES128 (and AES192, AES256)\n",
    "\n",
    "The first key-recovery attacks on full AES were by Andrey Bogdanov, Dmitry Khovratovich, and Christian Rechberger, and were published in 2011.[25] The attack is a biclique attack and is faster than brute force by a factor of about four. It requires 2126.2 operations to recover an AES-128 key. For AES-192 and AES-256, 2190.2 and 2254.6 operations are needed, respectively. This result has been further improved to 2126.0 for AES-128, 2189.9 for AES-192 and 2254.3 for AES-256,[26] which are the current best results in key recovery attack against AES.\n",
    "\n",
    "This is a very small gain, as a 126-bit key (instead of 128-bits) would still take billions of years to brute force on current and foreseeable hardware. Also, the authors calculate the best attack using their technique on AES with a 128-bit key requires storing 288 bits of data. That works out to about 38 trillion terabytes of data, which is more than all the data stored on all the computers on the planet in 2016. As such, there are no practical implications on AES security.[27] The space complexity has later been improved to 256 bits,[26] which is 9007 terabytes (while still keeping a time complexity of 2126.2).\n",
    "\n"
   ]
  },
  {
   "cell_type": "code",
   "execution_count": 6,
   "id": "38d75168",
   "metadata": {},
   "outputs": [
    {
     "name": "stdout",
     "output_type": "stream",
     "text": [
      "F32 min is -340282350000000000000000000000000000000 max is 340282350000000000000000000000000000000\n",
      "F64 min is -179769313486231570000000000000000000000000000000000000000000000000000000000000000000000000000000000000000000000000000000000000000000000000000000000000000000000000000000000000000000000000000000000000000000000000000000000000000000000000000000000000000000000000000000000000000000000000000000000000000000000000000 max is 179769313486231570000000000000000000000000000000000000000000000000000000000000000000000000000000000000000000000000000000000000000000000000000000000000000000000000000000000000000000000000000000000000000000000000000000000000000000000000000000000000000000000000000000000000000000000000000000000000000000000000000\n"
     ]
    }
   ],
   "source": [
    "println!(\"F32 min is {} max is {}\", f32::MIN, f32::MAX);\n",
    "println!(\"F64 min is {} max is {}\", f64::MIN, f64::MAX);\n"
   ]
  },
  {
   "cell_type": "markdown",
   "id": "1189388c",
   "metadata": {
    "slideshow": {
     "slide_type": "subslide"
    }
   },
   "source": [
    "## Basic types: Booleans, characters, and strings\n",
    "\n",
    "* `bool` uses one byte of memory"
   ]
  },
  {
   "cell_type": "code",
   "execution_count": 15,
   "id": "3aaebad8",
   "metadata": {},
   "outputs": [
    {
     "name": "stdout",
     "output_type": "stream",
     "text": [
      "false\n",
      "true\n",
      "false\n",
      "true\n",
      "true\n"
     ]
    }
   ],
   "source": [
    "let x = true;\n",
    "let y: bool = false;\n",
    "\n",
    "// x and (not y)\n",
    "println!(\"{}\", x & y);\n",
    "println!(\"{}\", x | y);\n",
    "println!(\"{}\", x && y);\n",
    "println!(\"{}\", x || y);\n",
    "println!(\"{}\", !y);\n"
   ]
  },
  {
   "cell_type": "code",
   "execution_count": 4,
   "id": "abbd3f41",
   "metadata": {},
   "outputs": [
    {
     "name": "stdout",
     "output_type": "stream",
     "text": [
      "2\n",
      "15\n",
      "-8\n"
     ]
    }
   ],
   "source": [
    "let x = 10;\n",
    "let y = 7;\n",
    "println!(\"{}\", x & y);\n",
    "println!(\"{}\", x | y);\n",
    "// println!(\"{}\", x && y);\n",
    "// println!(\"{}\", x || y);\n",
    "println!(\"{}\", !y);\n",
    "\n"
   ]
  },
  {
   "cell_type": "code",
   "execution_count": null,
   "id": "ea818495",
   "metadata": {},
   "outputs": [],
   "source": []
  },
  {
   "cell_type": "markdown",
   "id": "350f5c1b",
   "metadata": {
    "slideshow": {
     "slide_type": "fragment"
    }
   },
   "source": [
    "* `char` defined via single quote, uses four bytes of memory (Unicode scalar value)\n",
    "* For a complete list of UTF-8 characters check https://www.fileformat.info/info/charset/UTF-8/list.htm"
   ]
  },
  {
   "cell_type": "code",
   "execution_count": 17,
   "id": "b434d060",
   "metadata": {},
   "outputs": [
    {
     "name": "stdout",
     "output_type": "stream",
     "text": [
      "a 🚦 🦕\n"
     ]
    }
   ],
   "source": [
    "let x: char = 'a';\n",
    "let y = '🚦';\n",
    "let z = '🦕';\n",
    "\n",
    "println!(\"{} {} {}\", x, y, z);"
   ]
  },
  {
   "cell_type": "markdown",
   "id": "42092a63",
   "metadata": {
    "slideshow": {
     "slide_type": "fragment"
    }
   },
   "source": [
    "* string slice defined via double quotes (not so basic actually!)"
   ]
  },
  {
   "cell_type": "code",
   "execution_count": 18,
   "id": "5adaf443",
   "metadata": {},
   "outputs": [
    {
     "name": "stdout",
     "output_type": "stream",
     "text": [
      "Hello! How are you, 🦕? Καλημέρα από την Βοστώνη και την DS210 Does this work? Does this work?\n",
      "l\n",
      "η\n"
     ]
    }
   ],
   "source": [
    "fn testme() {\n",
    "    let s1 = \"Hello! How are you, 🦕?\";\n",
    "    let s2 : &str = \"Καλημέρα από την Βοστώνη και την DS210\";\n",
    "    // This doesn't work.  You can't do String = &str but you can do the opposite\n",
    "    // let s3: String = \"Does this work?\";\n",
    "    let s3: String = String::from(\"Does this work?\");\n",
    "    let s4: &str = &s3;\n",
    "    println!(\"{} {} {} {}\", s1, s2, s3, s4);\n",
    "    // println!(\"{}\", s1[3]);\n",
    "    // println!(\"{}\", s2[3]);\n",
    "    println!(\"{}\", s1.chars().nth(3).unwrap());\n",
    "    println!(\"{}\", s2.chars().nth(3).unwrap());\n",
    "}\n",
    "\n",
    "testme();"
   ]
  },
  {
   "cell_type": "markdown",
   "id": "6debaf0d",
   "metadata": {
    "slideshow": {
     "slide_type": "slide"
    }
   },
   "source": [
    "# Project manager: `cargo`\n",
    "\n",
    "* create a project: `cargo new PROJECT-NAME`\n",
    "* main file will be `PROJECT-NAME/src/main.rs`"
   ]
  },
  {
   "cell_type": "markdown",
   "id": "9efb42a6",
   "metadata": {
    "slideshow": {
     "slide_type": "fragment"
    }
   },
   "source": [
    "* to run: `cargo run`\n",
    "* to just build: `cargo build`"
   ]
  },
  {
   "cell_type": "markdown",
   "id": "da95370d",
   "metadata": {
    "slideshow": {
     "slide_type": "fragment"
    }
   },
   "source": [
    "Add `--release` to create a \"fully optimized\" version:\n",
    " * longer compilation\n",
    " * faster execution\n",
    " * some runtime checks not included (e.g., integer overflow)\n",
    " * debuging information not included\n",
    " * the executable in a different folder\n",
    " * Demo fibonacci on the terminal"
   ]
  },
  {
   "cell_type": "markdown",
   "id": "a34380b6",
   "metadata": {
    "slideshow": {
     "slide_type": "subslide"
    }
   },
   "source": [
    "## Project manager: `cargo`\n",
    "\n",
    "If you just want to **check** if your current version compiles: `cargo check`\n",
    "  * Much faster for big projects"
   ]
  },
  {
   "cell_type": "markdown",
   "id": "8f6ef146",
   "metadata": {},
   "source": [
    "## Read book chapter 1 and sections 3.1 and 3.2"
   ]
  },
  {
   "cell_type": "markdown",
   "id": "9c4a56fe",
   "metadata": {},
   "source": [
    "## Piazza Poll\n",
    "\n",
    "Will publish in class.\n",
    "\n",
    "https://piazza.com/class/m5qyw6267j12cj/post/43\n"
   ]
  },
  {
   "cell_type": "markdown",
   "id": "f63c94fe",
   "metadata": {},
   "source": []
  }
 ],
 "metadata": {
  "celltoolbar": "Slideshow",
  "kernelspec": {
   "display_name": "Rust",
   "language": "rust",
   "name": "rust"
  },
  "language_info": {
   "codemirror_mode": "rust",
   "file_extension": ".rs",
   "mimetype": "text/rust",
   "name": "rust",
   "pygment_lexer": "rust",
   "version": ""
  },
  "rise": {
   "theme": "beige",
   "transition": "fade"
  }
 },
 "nbformat": 4,
 "nbformat_minor": 5
}
